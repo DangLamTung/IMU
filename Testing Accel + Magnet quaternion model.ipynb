{
 "cells": [
  {
   "cell_type": "code",
   "execution_count": 67,
   "metadata": {},
   "outputs": [],
   "source": [
    "import matplotlib.pyplot as plt\n",
    "import numpy as np"
   ]
  },
  {
   "cell_type": "code",
   "execution_count": 68,
   "metadata": {},
   "outputs": [],
   "source": [
    "file_data = open(\"EKF_45deg1_data_cleaned.txt\",\"r\")"
   ]
  },
  {
   "cell_type": "code",
   "execution_count": 69,
   "metadata": {},
   "outputs": [],
   "source": [
    "time = []\n",
    "data = []\n",
    "\n",
    "Acc_x = []\n",
    "Acc_y = []\n",
    "Acc_z = []\n",
    "\n",
    "Gyro_x = []\n",
    "Gyro_y = []\n",
    "Gyro_z = []\n",
    "\n",
    "Mag_x = []\n",
    "Mag_y = []\n",
    "Mag_z = []\n",
    "\n",
    "sAx = 0.0\n",
    "sAy = 0.0 \n",
    "sAz = 0.0\n",
    "sWx = 0.0\n",
    "sWy = 0.0\n",
    "sWz = 0.0\n",
    "sMx = 0.0\n",
    "sMy = 0.0\n",
    "sMz = 0.0\n",
    "\n",
    "\n",
    "bAx = 0.0\n",
    "bAy = 0.0 \n",
    "bAz = 0.0\n",
    "bWx = 0.0\n",
    "bWy = 0.0\n",
    "bWz = 0.0\n",
    "bMx = 0.0\n",
    "bMy = 0.0\n",
    "bMz = 0.0\n",
    "\n",
    "\n",
    "currentSample = 0\n",
    "dt = 0.00635"
   ]
  },
  {
   "cell_type": "code",
   "execution_count": 70,
   "metadata": {},
   "outputs": [],
   "source": [
    "for l in file_data.readlines():\n",
    "    try:\n",
    "        temp = l.split(' ')\n",
    "\n",
    "        Gyro_x.append(float(temp[0]))\n",
    "        Gyro_y.append(float(temp[1]))\n",
    "        Gyro_z.append(float(temp[2]))\n",
    "    \n",
    "        Acc_x.append(float(temp[3]))\n",
    "        Acc_y.append(float(temp[4]))\n",
    "        Acc_z.append(float(temp[5]))\n",
    "\n",
    "        Mag_x.append(float(temp[6]))\n",
    "        Mag_y.append(float(temp[7]))\n",
    "        Mag_z.append(float(temp[8]))\n",
    "            # data = np.array(data)\n",
    "        currentSample += dt\n",
    "        time.append(currentSample)\n",
    "    except Exception as e:\n",
    "        print(e)\n",
    "\n",
    "\n",
    "file_data.close()"
   ]
  },
  {
   "cell_type": "code",
   "execution_count": 71,
   "metadata": {},
   "outputs": [],
   "source": [
    "Acc_x = np.array(Acc_x)\n",
    "Acc_y = np.array(Acc_y)\n",
    "Acc_z = np.array(Acc_z)\n",
    "\n",
    "Gyro_x = np.array(Gyro_x)\n",
    "Gyro_y = np.array(Gyro_y)\n",
    "Gyro_z = np.array(Gyro_z)\n",
    "\n",
    "Mag_x = np.array(Mag_x)\n",
    "Mag_y = np.array(Mag_y)\n",
    "Mag_z = np.array(Mag_z)\n",
    "\n"
   ]
  },
  {
   "cell_type": "code",
   "execution_count": 72,
   "metadata": {},
   "outputs": [
    {
     "name": "stdout",
     "output_type": "stream",
     "text": [
      "0.056995678108650104\n",
      "0.0157029932127452\n",
      "0.03814905904184546\n",
      "1.225063269295448\n",
      "4.067161921593814\n",
      "10.132749420363147\n"
     ]
    }
   ],
   "source": [
    "bAx = Acc_x.mean()\n",
    "sAx = Acc_x.std()\n",
    "\n",
    "bAy = Acc_y.mean()\n",
    "sAy = Acc_y.std()\n",
    "\n",
    "bAz = 16384 - Acc_z.mean()\n",
    "sAz = Acc_z.std()\n",
    "\n",
    "bWx = Gyro_x.mean()\n",
    "sWx = Gyro_x.std()\n",
    "\n",
    "bWy = Gyro_y.mean()\n",
    "sWy = Gyro_y.std()\n",
    "\n",
    "bWz =  Gyro_z.mean()\n",
    "sWz = Gyro_z.std()\n",
    "\n",
    "# Acc_x = (Acc_x)/16384\n",
    "# Acc_y = (Acc_y)/16384\n",
    "# Acc_z = (Acc_z)/16384\n",
    "\n",
    "# print(Acc_x.mean())\n",
    "print(Acc_x.std()/16384)\n",
    "\n",
    "# print(Acc_y.mean())\n",
    "print(Acc_y.std()/16384)\n",
    "\n",
    "# print(Acc_z)\n",
    "print(Acc_z.std()/16384)\n",
    "\n",
    "# print(Gyro_x.mean())\n",
    "print(Gyro_x.std()/16.4)\n",
    "\n",
    "# print(Gyro_y.mean())\n",
    "print(Gyro_y.std()/16.4)\n",
    "\n",
    "# print(Gyro_z.mean())\n",
    "print(Gyro_z.std()/16.4)\n"
   ]
  },
  {
   "cell_type": "code",
   "execution_count": 73,
   "metadata": {},
   "outputs": [
    {
     "name": "stdout",
     "output_type": "stream",
     "text": [
      "[ 1.          0.          0.          0.         -0.02886213  0.01950546\n",
      " -0.01662916]\n"
     ]
    }
   ],
   "source": [
    "q = np.array([1,0,0,0])\n",
    "x = np.array([1,0,0,0])\n",
    "bw = np.array([-27.12032, 18.3283232832,-15.6256062561])\n",
    "\n",
    "bw_ = bw/(16.4*180)*np.pi\n",
    "ba_ = np.array([bAx,bAy,bAz])\n",
    "x_ = np.append(q,bw_)\n",
    "print(x_)\n"
   ]
  },
  {
   "cell_type": "code",
   "execution_count": 74,
   "metadata": {},
   "outputs": [
    {
     "name": "stdout",
     "output_type": "stream",
     "text": [
      "[[-0.98 -1.01 -0.96 ... -0.98 -0.96 -0.94]\n",
      " [-0.47 -0.51 -0.46 ... -0.58 -0.52 -0.52]\n",
      " [ 0.3   0.26  0.28 ...  0.19  0.22  0.2 ]]\n"
     ]
    }
   ],
   "source": [
    "data_len = []\n",
    "\n",
    "data_len.append(Gyro_x.shape[0])\n",
    "data_len.append(Gyro_y.shape[0])\n",
    "data_len.append(Gyro_z.shape[0])\n",
    "\n",
    "data_len.append(Acc_x.shape[0])\n",
    "data_len.append(Acc_y.shape[0])\n",
    "data_len.append(Acc_z.shape[0])\n",
    "\n",
    "data_len.append(Mag_x.shape[0])\n",
    "data_len.append(Mag_y.shape[0])\n",
    "data_len.append(Mag_z.shape[0])\n",
    "\n",
    "\n",
    "w = np.concatenate([Gyro_x[0:min(data_len)],Gyro_y[0:min(data_len)],Gyro_z[0:min(data_len)]], axis=0)\n",
    "\n",
    "data_len = []\n",
    "data_len.append(Acc_x.shape[0])\n",
    "data_len.append(Acc_y.shape[0])\n",
    "data_len.append(Acc_z.shape[0])\n",
    "\n",
    "a = np.concatenate((Acc_x[0:min(data_len)],Acc_y[0:min(data_len)],Acc_z[0:min(data_len)]), axis=0)\n",
    " \n",
    "data_len = []\n",
    "data_len.append(Mag_x.shape[0])\n",
    "data_len.append(Mag_y.shape[0])\n",
    "data_len.append(Mag_z.shape[0])\n",
    "\n",
    "m = np.concatenate((Mag_x[0:min(data_len)],Mag_y[0:min(data_len)],Mag_z[0:min(data_len)]),axis=0)\n",
    "\n",
    "a = np.reshape(a[0:3*min(data_len)],(-1,min(data_len)))\n",
    "w = np.reshape(w[0:3*min(data_len)],(-1,min(data_len)))\n",
    "m = np.reshape(m[0:3*min(data_len)],(-1,min(data_len)))\n",
    "print(m)\n"
   ]
  },
  {
   "cell_type": "code",
   "execution_count": 75,
   "metadata": {},
   "outputs": [],
   "source": [
    "P = np.identity(7) * 0.1\n",
    "Q = np.identity(7) * 0.001\n",
    "R = np.identity(3) * 0.01\n",
    "quat = []\n",
    "quat1 = []\n",
    "quat2 = []\n",
    "\n",
    "quat_ = []\n",
    "quat1_ = []\n",
    "quat2_ = []\n",
    "def quat_rot(a,w,t):\n",
    "    w1 = w/(16.4*180)*np.pi\n",
    "#     w = (w - bw)/(16.4*180)*np.pi\n",
    "    \n",
    "    a = a/16384\n",
    "    global q,x,x_,P\n",
    "    g = 9.81\n",
    "    \n",
    "    \n",
    "#     print(x_)\n",
    "    q_mul = np.array([[-x_[1],-x_[2],-x_[3]],\n",
    "                      [x_[0], -x_[3],x_[2]],\n",
    "                      [x_[3], x_[0], -x_[1]],\n",
    "                      [-x_[2], x_[1],x_[0]]])\n",
    "    Sq = q_mul*0.5*t\n",
    "#     print(q_mul)\n",
    "#     print(Sq)  \n",
    "    F1 = np.append(np.eye(4),-Sq,axis = -1)\n",
    "    F2 = np.append(np.zeros((3,4)),np.eye(3),axis = -1) \n",
    "    A = np.append(F1,F2,axis = 0)\n",
    "    B = np.append(Sq,np.zeros((3,3)),axis = 0)\n",
    "#     print(np.round(A,decimals=3))\n",
    "#     print(np.round(B,decimals=3))\n",
    "    w_rot = np.array([[0,-w[0],-w[1],-w[2]],\n",
    "                      [w[0],0, w[2], -w[1]],\n",
    "                      [w[1],-w[2],0,w[0]],\n",
    "                      [w[2],w[1],-w[0],0]])\n",
    "    \n",
    "#     print(np.round(A,decimals = 3))\n",
    "    x_ = np.dot(A,x_) +  np.dot(B,w1)\n",
    "    P = np.dot(np.dot(A,P),np.transpose(A)) + Q\n",
    "        \n",
    "    C1 = np.array([[ -2*x_[2], -2*x_[3], -2*x_[0], -2*x_[1]],\n",
    "                  [  2*x_[1],  2*x_[0], -2*x_[3], -2*x_[2]],\n",
    "                  [ -2*x_[0],  2*x_[1],  2*x_[2], -2*x_[3]]])\n",
    "    C1 = -C1\n",
    "    \n",
    "    H = np.append(C1, np.zeros((3,3)),axis = -1)\n",
    "\n",
    "    \n",
    "    S = np.dot(np.dot(H, P),np.transpose(H)) + R\n",
    "    K = np.dot(np.dot(P,np.transpose(H)),np.linalg.inv(S)) \n",
    "#     print(H.shape)\n",
    "    x_ = x_ + np.dot(K,(a-np.dot(H,x_)))\n",
    "    x_ = x_/(np.sqrt(x_[0]**2 + x_[1]**2 + x_[2]**2 +x_[3]**2))\n",
    "    P = np.dot((np.eye(7) - np.dot(K,H)),P)\n",
    "    \n",
    "#     print(a)\n",
    "    quat_.append(np.arctan(2*(x_[0]*x_[3] + x_[1]*x_[2])/(1- 2*(x_[2]*x_[2] + x_[3]*x_[3])))*180/np.pi)\n",
    "    \n",
    "    quat1_.append(np.arcsin(2*(x_[0]*x_[2] - x_[1]*x_[3]))*180/np.pi)\n",
    "    quat2_.append(np.arctan(2*(x_[0]*x_[1] + x_[3]*x_[2])/(1- 2*(x_[2]*x_[2] + x_[1]*x_[1])))*180/np.pi)"
   ]
  },
  {
   "cell_type": "code",
   "execution_count": 76,
   "metadata": {},
   "outputs": [],
   "source": [
    "for (index,i) in enumerate(np.transpose(a)):\n",
    "#     print(m[:,index])\n",
    "    \n",
    "    quat_rot(i,w[:,index],0.003)"
   ]
  },
  {
   "cell_type": "code",
   "execution_count": null,
   "metadata": {},
   "outputs": [],
   "source": []
  },
  {
   "cell_type": "code",
   "execution_count": null,
   "metadata": {},
   "outputs": [],
   "source": []
  },
  {
   "cell_type": "code",
   "execution_count": null,
   "metadata": {},
   "outputs": [],
   "source": []
  },
  {
   "cell_type": "code",
   "execution_count": 77,
   "metadata": {},
   "outputs": [
    {
     "name": "stdout",
     "output_type": "stream",
     "text": [
      "4993\n"
     ]
    },
    {
     "data": {
      "image/png": "[encoded data removed]",
      "text/plain": [
       "<Figure size 432x288 with 1 Axes>"
      ]
     },
     "metadata": {
      "needs_background": "light"
     },
     "output_type": "display_data"
    },
    {
     "data": {
      "image/png": "[encoded data removed]",
      "text/plain": [
       "<Figure size 432x288 with 1 Axes>"
      ]
     },
     "metadata": {
      "needs_background": "light"
     },
     "output_type": "display_data"
    }
   ],
   "source": [
    "print(len(quat1_))\n",
    "plt.plot(time,quat1_,label='gyro_angle drift',linewidth=1)\n",
    "plt.show()\n",
    "gyro_angle = []\n",
    "gyro_tmp = 0\n",
    "for (i,t) in enumerate(time[0:100000]):\n",
    "    gyro_tmp = gyro_tmp + dt*((Gyro_y[i]  - 18.3283232832)/16.4)\n",
    "    gyro_angle.append(gyro_tmp)\n",
    "\n",
    "plt.plot(time,gyro_angle,label='gyro_angle drift',linewidth=1)\n",
    "plt.show()\n"
   ]
  },
  {
   "cell_type": "code",
   "execution_count": 78,
   "metadata": {},
   "outputs": [
    {
     "data": {
      "image/png": "[encoded data removed]",
      "text/plain": [
       "<Figure size 432x288 with 1 Axes>"
      ]
     },
     "metadata": {
      "needs_background": "light"
     },
     "output_type": "display_data"
    },
    {
     "data": {
      "image/png": "[encoded data removed]",
      "text/plain": [
       "<Figure size 432x288 with 1 Axes>"
      ]
     },
     "metadata": {
      "needs_background": "light"
     },
     "output_type": "display_data"
    }
   ],
   "source": [
    "plt.plot(time,quat2_,label='gyro_angle drift',linewidth=1)\n",
    "plt.show()\n",
    "gyro_angle = []\n",
    "gyro_tmp = 0\n",
    "for (i,t) in enumerate(time[0:100000]):\n",
    "    gyro_tmp = gyro_tmp + dt*((Gyro_x[i]  + 27.12032)/16.4)\n",
    "    gyro_angle.append(gyro_tmp)\n",
    "\n",
    "plt.scatter(time,gyro_angle,label='gyro_angle drift',linewidth=1)\n",
    "plt.show()\n"
   ]
  },
  {
   "cell_type": "code",
   "execution_count": 61,
   "metadata": {},
   "outputs": [
    {
     "data": {
      "image/png": "[encoded data removed]",
      "text/plain": [
       "<Figure size 432x288 with 1 Axes>"
      ]
     },
     "metadata": {
      "needs_background": "light"
     },
     "output_type": "display_data"
    },
    {
     "data": {
      "image/png": "[encoded data removed]",
      "text/plain": [
       "<Figure size 432x288 with 1 Axes>"
      ]
     },
     "metadata": {
      "needs_background": "light"
     },
     "output_type": "display_data"
    }
   ],
   "source": [
    "plt.plot(time,quat_,label='gyro_angle drift',linewidth=1)\n",
    "plt.show()\n",
    "gyro_angle = []\n",
    "gyro_tmp = 0\n",
    "for (i,t) in enumerate(time[0:100000]):\n",
    "    gyro_tmp = gyro_tmp + dt*((Gyro_z[i]  + 15.6256062561)/16.4)\n",
    "    gyro_angle.append(gyro_tmp)\n",
    "\n",
    "plt.scatter(time,gyro_angle,label='gyro_angle drift',linewidth=1)\n",
    "plt.show()\n"
   ]
  },
  {
   "cell_type": "code",
   "execution_count": 64,
   "metadata": {},
   "outputs": [
    {
     "name": "stdout",
     "output_type": "stream",
     "text": [
      "(3, 4993)\n"
     ]
    }
   ],
   "source": [
    "pitch = []\n",
    "roll = []\n",
    "print(a.shape)\n",
    "def euler_accel(a,t):\n",
    "    pitch.append(np.arctan((a[1] - bAy) /(a[2] - bAz))/np.pi*180)\n",
    "    roll.append(np.arctan(-(a[0] - bAx)/np.sqrt((a[1] - bAy)**2 + (a[2] - bAz)**2))/np.pi*180)"
   ]
  },
  {
   "cell_type": "code",
   "execution_count": 65,
   "metadata": {},
   "outputs": [],
   "source": [
    "for i in np.transpose(a):\n",
    "    \n",
    "    euler_accel(i,0.003)\n"
   ]
  },
  {
   "cell_type": "code",
   "execution_count": 66,
   "metadata": {},
   "outputs": [
    {
     "name": "stdout",
     "output_type": "stream",
     "text": [
      "4993\n",
      "4993\n"
     ]
    },
    {
     "data": {
      "image/png": "[encoded data removed]",
      "text/plain": [
       "<Figure size 432x288 with 1 Axes>"
      ]
     },
     "metadata": {
      "needs_background": "light"
     },
     "output_type": "display_data"
    },
    {
     "data": {
      "image/png": "[encoded data removed]",
      "text/plain": [
       "<Figure size 432x288 with 1 Axes>"
      ]
     },
     "metadata": {
      "needs_background": "light"
     },
     "output_type": "display_data"
    }
   ],
   "source": [
    "print(len(pitch))\n",
    "print(len(time))\n",
    "plt.scatter(time,pitch,label='gyro_angle drift',linewidth=1)\n",
    "plt.show()\n",
    "\n",
    "plt.scatter(time,roll,label='gyro_angle drift',linewidth=1)\n",
    "plt.show()"
   ]
  },
  {
   "cell_type": "code",
   "execution_count": null,
   "metadata": {},
   "outputs": [],
   "source": []
  },
  {
   "cell_type": "code",
   "execution_count": 828,
   "metadata": {},
   "outputs": [
    {
     "ename": "NameError",
     "evalue": "name 'Mx' is not defined",
     "output_type": "error",
     "traceback": [
      "\u001b[0;31m---------------------------------------------------------------------------\u001b[0m",
      "\u001b[0;31mNameError\u001b[0m                                 Traceback (most recent call last)",
      "\u001b[0;32m<ipython-input-828-b79c99debfa3>\u001b[0m in \u001b[0;36m<module>\u001b[0;34m()\u001b[0m\n\u001b[0;32m----> 1\u001b[0;31m \u001b[0mM_x1\u001b[0m \u001b[0;34m=\u001b[0m \u001b[0mnp\u001b[0m\u001b[0;34m.\u001b[0m\u001b[0msort\u001b[0m\u001b[0;34m(\u001b[0m\u001b[0mMx\u001b[0m\u001b[0;34m,\u001b[0m \u001b[0maxis\u001b[0m\u001b[0;34m=\u001b[0m\u001b[0mNone\u001b[0m \u001b[0;34m,\u001b[0m \u001b[0mkind\u001b[0m  \u001b[0;34m=\u001b[0m \u001b[0;34m\"quicksort\"\u001b[0m\u001b[0;34m)\u001b[0m\u001b[0;34m\u001b[0m\u001b[0;34m\u001b[0m\u001b[0m\n\u001b[0m\u001b[1;32m      2\u001b[0m \u001b[0mM_y1\u001b[0m \u001b[0;34m=\u001b[0m \u001b[0mnp\u001b[0m\u001b[0;34m.\u001b[0m\u001b[0msort\u001b[0m\u001b[0;34m(\u001b[0m\u001b[0mMy\u001b[0m\u001b[0;34m,\u001b[0m \u001b[0maxis\u001b[0m\u001b[0;34m=\u001b[0m\u001b[0mNone\u001b[0m\u001b[0;34m,\u001b[0m \u001b[0mkind\u001b[0m  \u001b[0;34m=\u001b[0m \u001b[0;34m\"quicksort\"\u001b[0m\u001b[0;34m)\u001b[0m\u001b[0;34m\u001b[0m\u001b[0;34m\u001b[0m\u001b[0m\n\u001b[1;32m      3\u001b[0m \u001b[0mM_z1\u001b[0m \u001b[0;34m=\u001b[0m \u001b[0mnp\u001b[0m\u001b[0;34m.\u001b[0m\u001b[0msort\u001b[0m\u001b[0;34m(\u001b[0m\u001b[0mMz\u001b[0m\u001b[0;34m,\u001b[0m \u001b[0maxis\u001b[0m\u001b[0;34m=\u001b[0m\u001b[0mNone\u001b[0m \u001b[0;34m,\u001b[0m\u001b[0mkind\u001b[0m  \u001b[0;34m=\u001b[0m \u001b[0;34m\"quicksort\"\u001b[0m\u001b[0;34m)\u001b[0m\u001b[0;34m\u001b[0m\u001b[0;34m\u001b[0m\u001b[0m\n\u001b[1;32m      4\u001b[0m \u001b[0;34m\u001b[0m\u001b[0m\n\u001b[1;32m      5\u001b[0m \u001b[0;32mprint\u001b[0m\u001b[0;34m(\u001b[0m\u001b[0;34m\"max x: %0.2f min x: %0.2f \"\u001b[0m\u001b[0;34m,\u001b[0m\u001b[0mM_x1\u001b[0m\u001b[0;34m[\u001b[0m\u001b[0;36m9999\u001b[0m\u001b[0;34m]\u001b[0m\u001b[0;34m,\u001b[0m\u001b[0mM_x1\u001b[0m\u001b[0;34m[\u001b[0m\u001b[0;36m1000\u001b[0m\u001b[0;34m]\u001b[0m\u001b[0;34m)\u001b[0m\u001b[0;34m\u001b[0m\u001b[0;34m\u001b[0m\u001b[0m\n",
      "\u001b[0;31mNameError\u001b[0m: name 'Mx' is not defined"
     ]
    }
   ],
   "source": [
    "M_x1 = np.sort(Mx, axis=None , kind  = \"quicksort\") \n",
    "M_y1 = np.sort(My, axis=None, kind  = \"quicksort\")  \n",
    "M_z1 = np.sort(Mz, axis=None ,kind  = \"quicksort\") \n",
    "\n",
    "print(\"max x: %0.2f min x: %0.2f \",M_x1[9999],M_x1[1000])\n",
    "print(\"max y: %0.2f min y: %0.2f \",M_y1[9999],M_y1[0])\n",
    "print(\"max z: %0.2f min z: %0.2f \",M_z1[9999],M_z1[10])\n",
    "\n",
    "\n",
    "# M_y[np.where(M_y ==  6694.4)] = 145.28\n",
    "# M_x[np.where(M_x >  654.06)] = 654.06\n",
    "offset_x = (M_x1[9999] + M_x1[0]) / 2\n",
    "offset_y = (M_y1[9999] + M_y1[0]) / 2\n",
    "offset_z = (M_z1[9000] + M_z1[100]) / 2\n",
    "\n",
    "print(\"offset x: %0.2f offset y: %0.2f offset z: %0.2f\",offset_x,offset_y,offset_z)\n",
    "\n",
    "# M_x = np.subtract(M_x, offset_x)\n",
    "# M_y = np.subtract(M_y, offset_y)\n",
    "# M_z = np.subtract(M_z, offset_z)\n",
    "# ax = fig.gca(projection='3d')\n",
    "\n",
    "# M = np.array((M_x,M_y,M_z))\n",
    "# ax.scatter(M_x, M_y, M_z)\n",
    "# print(M.shape)\n",
    "# ax1 = fig.add_subplot(1, 2, 1)\n",
    "fig, ax = plt.subplots(tight_layout=True)\n",
    "# hist = ax1.hist(M_x)\n",
    "# hist1 = ax1.hist(M_y)\n",
    "# hist2 = ax.hist(M_zc)\n",
    "\n",
    "# hist3 = ax.hist2d(M_x,M_y)\n",
    "# hist4 = ax.hist2d(M_y,M_z)\n",
    "# hist5 = ax.hist2d(M_z,M_x)\n",
    "# print(max(M_zc))\n",
    "# print(max(M_yc))\n",
    "# print(max(M_xc))\n",
    "\n",
    "\n",
    "\n",
    "avg_delta_x = (M_x1[9999] + M_x1[10]) / 2\n",
    "avg_delta_y = (M_y1[9999] + M_y1[10]) / 2\n",
    "avg_delta_z = (M_z1[9999] + M_z1[1000]) / 2\n",
    "print(\"delta x: %0.2f delta y: %0.2f delta z: %0.2f\",avg_delta_x,avg_delta_y,avg_delta_z)\n",
    "avg_delta = (avg_delta_x + avg_delta_y + avg_delta_z) / 3\n",
    "\n",
    "scale_x = avg_delta / avg_delta_x\n",
    "scale_y = avg_delta / avg_delta_y\n",
    "scale_z = avg_delta / avg_delta_z\n",
    "\n",
    "print(scale_x)\n",
    "print(scale_y)\n",
    "print(scale_z)\n",
    "# scale_x = 0.25\n",
    "M_x = (M_x - offset_x) * scale_x\n",
    "M_y = (M_y - offset_y) * scale_y\n",
    "M_z = (M_z - offset_z) * scale_z\n",
    "plt.autoscale(enable=True, axis='both', tight=None)\n",
    "ax.set_xlim(-300, 300)\n",
    "ax.set_ylim(-300,300)\n",
    "\n",
    "ax.scatter(M_x, M_y, color = \"red\")\n",
    "ax.scatter(M_x, M_z, color = \"green\")\n",
    "ax.scatter(M_y, M_z, color = \"blue\")\n",
    "\n",
    "\n",
    "# ax.scatter(M_x , M_y , M_z ,color = \"green\")\n",
    "formatter = mticker.ScalarFormatter()\n",
    "# ax.xaxis.set_major_formatter(formatter)\n",
    "# ax.xaxis.set_major_locator(mticker.FixedLocator(np.arange(M_x.min()+1, M_x.max()+1, 20)))\n",
    "\n",
    "# ax.yaxis.set_major_formatter(formatter)\n",
    "# ax.yaxis.set_major_locator(mticker.FixedLocator(np.arange(M_y.min()+1, M_y.max()+1, 20)))\n",
    "\n",
    "# ax.set_aspect(\"equal\")\n",
    "# ax.set_xlim3d(-200, 200)\n",
    "# ax.set_ylim3d(-200,200)\n",
    "\n",
    "# ax.set_zlim3d(-200,200)\n",
    "\n",
    "# ax.scatter(M_x, M_y, M_z)\n",
    "\n",
    "# plt.axis(\"equal\")\n",
    "plt.show()\n",
    "    \n"
   ]
  },
  {
   "cell_type": "code",
   "execution_count": 15,
   "metadata": {},
   "outputs": [],
   "source": [
    "def fitEllipsoid(magX, magY, magZ):\n",
    "    a1 = magX ** 2\n",
    "    a2 = magY ** 2\n",
    "    a3 = magZ ** 2\n",
    "    a4 = 2 * np.multiply(magY, magZ)\n",
    "    a5 = 2 * np.multiply(magX, magZ)\n",
    "    a6 = 2 * np.multiply(magX, magY)\n",
    "    a7 = 2 * magX\n",
    "    a8 = 2 * magY\n",
    "    a9 = 2 * magZ\n",
    "    a10 = np.ones(len(magX)).T\n",
    "    D = np.array([a1, a2, a3, a4, a5, a6, a7, a8, a9, a10])\n",
    "\n",
    "    # Eqn 7, k = 4\n",
    "    C1 = np.array([[-1, 1, 1, 0, 0, 0],\n",
    "                   [1, -1, 1, 0, 0, 0],\n",
    "                   [1, 1, -1, 0, 0, 0],\n",
    "                   [0, 0, 0, -4, 0, 0],\n",
    "                   [0, 0, 0, 0, -4, 0],\n",
    "                   [0, 0, 0, 0, 0, -4]])\n",
    "\n",
    "    # Eqn 11\n",
    "    S = np.matmul(D, D.T)\n",
    "    S11 = S[:6, :6]\n",
    "    S12 = S[:6, 6:]\n",
    "    S21 = S[6:, :6]\n",
    "    S22 = S[6:, 6:]\n",
    "\n",
    "    # Eqn 15, find eigenvalue and vector\n",
    "    # Since S is symmetric, S12.T = S21\n",
    "    tmp = np.matmul(np.linalg.inv(C1), S11 - np.matmul(S12, np.matmul(np.linalg.inv(S22), S21)))\n",
    "    eigenValue, eigenVector = np.linalg.eig(tmp)\n",
    "    u1 = eigenVector[:, np.argmax(eigenValue)]\n",
    "\n",
    "    # Eqn 13 solution\n",
    "    u2 = np.matmul(-np.matmul(np.linalg.inv(S22), S21), u1)\n",
    "\n",
    "    # Total solution\n",
    "    u = np.concatenate([u1, u2]).T\n",
    "\n",
    "    Q = np.array([[u[0], u[5], u[4]],\n",
    "                  [u[5], u[1], u[3]],\n",
    "                  [u[4], u[3], u[2]]])\n",
    "\n",
    "    n = np.array([[u[6]],\n",
    "                  [u[7]],\n",
    "                  [u[8]]])\n",
    "\n",
    "    d = u[9]\n",
    "\n",
    "    return Q, n, d\n"
   ]
  },
  {
   "cell_type": "code",
   "execution_count": 16,
   "metadata": {},
   "outputs": [],
   "source": [
    "Q,n,d = fitEllipsoid(Mag_x, Mag_y, Mag_z)"
   ]
  },
  {
   "cell_type": "code",
   "execution_count": 17,
   "metadata": {},
   "outputs": [
    {
     "name": "stdout",
     "output_type": "stream",
     "text": [
      "[[ -7.04141077e-01   1.24984645e-02  -3.84674661e-04]\n",
      " [  1.24984645e-02  -6.80592000e-01   2.69242286e-03]\n",
      " [ -3.84674661e-04   2.69242286e-03  -2.02030356e-01]]\n",
      "[[-4664.84886227]\n",
      " [-4269.51504473]\n",
      " [ 5265.98428496]]\n",
      "-5478504.42616\n"
     ]
    }
   ],
   "source": [
    "print(Q)\n",
    "print(n)\n",
    "print(d)\n"
   ]
  },
  {
   "cell_type": "code",
   "execution_count": 18,
   "metadata": {},
   "outputs": [
    {
     "data": {
      "image/png": "[encoded data removed]",
      "text/plain": [
       "<matplotlib.figure.Figure at 0x7ff6085e3e90>"
      ]
     },
     "metadata": {
      "needs_background": "light"
     },
     "output_type": "display_data"
    }
   ],
   "source": [
    "from mpl_toolkits.mplot3d import Axes3D\n",
    "fig2 = plt.figure(2)\n",
    "ax2 = fig2.add_subplot(111, projection='3d')\n",
    "\n",
    "ax2.set_xlabel('X')\n",
    "ax2.set_ylabel('Y')\n",
    "ax2.set_zlabel('Z')\n",
    "\n",
    "\n",
    "u = np.linspace(0, 2 * np.pi, 100)\n",
    "v = np.linspace(0, np.pi, 100)\n",
    "x = np.outer(np.cos(u), np.sin(v))\n",
    "y = np.outer(np.sin(u), np.sin(v))\n",
    "z = np.outer(np.ones(np.size(u)), np.cos(v))\n",
    "ax2.plot_wireframe(x, y, z, rstride=10, cstride=10, alpha=0.5)\n",
    "ax2.plot_surface(x, y, z, alpha=0.3, color='b')\n",
    "\n",
    "ax2.plot(Mag_x, Mag_y, Mag_z)\n",
    "plt.show()\n"
   ]
  },
  {
   "cell_type": "code",
   "execution_count": 1,
   "metadata": {},
   "outputs": [
    {
     "ename": "NameError",
     "evalue": "name 'np' is not defined",
     "output_type": "error",
     "traceback": [
      "\u001b[0;31m---------------------------------------------------------------------------\u001b[0m",
      "\u001b[0;31mNameError\u001b[0m                                 Traceback (most recent call last)",
      "\u001b[0;32m<ipython-input-1-974953ed6826>\u001b[0m in \u001b[0;36m<module>\u001b[0;34m()\u001b[0m\n\u001b[0;32m----> 1\u001b[0;31m \u001b[0mP\u001b[0m \u001b[0;34m=\u001b[0m \u001b[0mnp\u001b[0m\u001b[0;34m.\u001b[0m\u001b[0midentity\u001b[0m\u001b[0;34m(\u001b[0m\u001b[0;36m4\u001b[0m\u001b[0;34m)\u001b[0m\u001b[0;34m*\u001b[0m \u001b[0;36m0.1\u001b[0m\u001b[0;34m\u001b[0m\u001b[0;34m\u001b[0m\u001b[0m\n\u001b[0m\u001b[1;32m      2\u001b[0m \u001b[0mQ\u001b[0m \u001b[0;34m=\u001b[0m \u001b[0mnp\u001b[0m\u001b[0;34m.\u001b[0m\u001b[0midentity\u001b[0m\u001b[0;34m(\u001b[0m\u001b[0;36m4\u001b[0m\u001b[0;34m)\u001b[0m\u001b[0;34m*\u001b[0m \u001b[0;36m0.001\u001b[0m\u001b[0;34m\u001b[0m\u001b[0;34m\u001b[0m\u001b[0m\n\u001b[1;32m      3\u001b[0m \u001b[0mR\u001b[0m \u001b[0;34m=\u001b[0m \u001b[0mnp\u001b[0m\u001b[0;34m.\u001b[0m\u001b[0midentity\u001b[0m\u001b[0;34m(\u001b[0m\u001b[0;36m3\u001b[0m\u001b[0;34m)\u001b[0m \u001b[0;34m*\u001b[0m \u001b[0;36m0.01\u001b[0m\u001b[0;34m\u001b[0m\u001b[0;34m\u001b[0m\u001b[0m\n\u001b[1;32m      4\u001b[0m \u001b[0;34m\u001b[0m\u001b[0m\n\u001b[1;32m      5\u001b[0m \u001b[0;32mdef\u001b[0m \u001b[0mquat_rot\u001b[0m\u001b[0;34m(\u001b[0m\u001b[0ma\u001b[0m\u001b[0;34m,\u001b[0m\u001b[0mw\u001b[0m\u001b[0;34m,\u001b[0m\u001b[0mt\u001b[0m\u001b[0;34m)\u001b[0m\u001b[0;34m:\u001b[0m\u001b[0;34m\u001b[0m\u001b[0;34m\u001b[0m\u001b[0m\n",
      "\u001b[0;31mNameError\u001b[0m: name 'np' is not defined"
     ]
    }
   ],
   "source": [
    "P = np.identity(4)* 0.1\n",
    "Q = np.identity(4)* 0.001\n",
    "R = np.identity(3) * 0.01\n",
    "\n",
    "def quat_rot(a,w,t):\n",
    "    w1 = w/(16.4*180)*np.pi\n",
    "#     w = (w - bw)/(16.4*180)*np.pi\n",
    "    \n",
    "    a = a/16384\n",
    "    global q,x,P\n",
    "    g = 9.81\n",
    "    \n",
    "    \n",
    "\n",
    "#     print(np.round(A,decimals=3))\n",
    "#     print(np.round(B,decimals=3))\n",
    "    w_rot = np.array([[0,-w[0],-w[1],-w[2]],\n",
    "                      [w[0],0, w[2], -w[1]],\n",
    "                      [w[1],-w[2],0,w[0]],\n",
    "                      [w[2],w[1],-w[0],0]])\n",
    "    w_rot = 0.5*t*w_rot\n",
    "    A = np.eye(4) + w_rot\n",
    "#     print(np.round(A,decimals = 3))\n",
    "    x_ = np.dot(A,x) \n",
    "    \n",
    "    P = np.dot(np.dot(A,P),np.transpose(A)) + Q\n",
    "        \n",
    "    C1 = np.array([[ -2*x_[2], -2*x_[3], -2*x_[0], -2*x_[1]],\n",
    "                  [  2*x_[1],  2*x_[0], -2*x_[3], -2*x_[2]],\n",
    "                  [ -2*x_[0],  2*x_[1],  2*x_[2], -2*x_[3]]])\n",
    "    H = -2*C1\n",
    "    \n",
    "    \n",
    "\n",
    "    \n",
    "    S = np.dot(np.dot(H, P),np.transpose(H)) + R\n",
    "    K = np.dot(np.dot(P,np.transpose(H)),np.linalg.inv(S)) \n",
    "#     print(H.shape)\n",
    "    x_ = x_ + np.dot(K,(a-np.dot(H,x_)))\n",
    "    P = np.dot((np.eye(4) - np.dot(K,H)),P)\n",
    "    \n",
    "#     print(a)\n",
    "    quat_.append(np.arctan(2*(x_[0]*x_[3] + x_[1]*x_[2])/(1- 2*(x_[2]*x_[2] + x_[3]*x_[3])))*180/np.pi)\n",
    "    quat1_.append(np.arcsin(2*(x_[0]*x_[2] - x_[1]*x_[3]))*180/np.pi)\n",
    "    quat2_.append(np.arctan(2*(x_[0]*x_[1] + x_[3]*x_[2])/(1- 2*(x_[2]*x_[2] + x_[1]*x_[1])))*180/np.pi)"
   ]
  },
  {
   "cell_type": "code",
   "execution_count": 20,
   "metadata": {},
   "outputs": [
    {
     "ename": "ValueError",
     "evalue": "shapes (4,4) and (100,100) not aligned: 4 (dim 1) != 100 (dim 0)",
     "output_type": "error",
     "traceback": [
      "\u001b[0;31m---------------------------------------------------------------------------\u001b[0m",
      "\u001b[0;31mValueError\u001b[0m                                Traceback (most recent call last)",
      "\u001b[0;32m<ipython-input-20-f5a4b65ec4de>\u001b[0m in \u001b[0;36m<module>\u001b[0;34m()\u001b[0m\n\u001b[1;32m      2\u001b[0m \u001b[0;31m#     print(i)\u001b[0m\u001b[0;34m\u001b[0m\u001b[0;34m\u001b[0m\u001b[0;34m\u001b[0m\u001b[0m\n\u001b[1;32m      3\u001b[0m \u001b[0;34m\u001b[0m\u001b[0m\n\u001b[0;32m----> 4\u001b[0;31m     \u001b[0mquat_rot\u001b[0m\u001b[0;34m(\u001b[0m\u001b[0mi\u001b[0m\u001b[0;34m,\u001b[0m\u001b[0mw\u001b[0m\u001b[0;34m[\u001b[0m\u001b[0;34m:\u001b[0m\u001b[0;34m,\u001b[0m\u001b[0mindex\u001b[0m\u001b[0;34m]\u001b[0m\u001b[0;34m,\u001b[0m\u001b[0;36m0.00635\u001b[0m\u001b[0;34m)\u001b[0m\u001b[0;34m\u001b[0m\u001b[0;34m\u001b[0m\u001b[0m\n\u001b[0m",
      "\u001b[0;32m<ipython-input-19-974953ed6826>\u001b[0m in \u001b[0;36mquat_rot\u001b[0;34m(a, w, t)\u001b[0m\n\u001b[1;32m     22\u001b[0m     \u001b[0mA\u001b[0m \u001b[0;34m=\u001b[0m \u001b[0mnp\u001b[0m\u001b[0;34m.\u001b[0m\u001b[0meye\u001b[0m\u001b[0;34m(\u001b[0m\u001b[0;36m4\u001b[0m\u001b[0;34m)\u001b[0m \u001b[0;34m+\u001b[0m \u001b[0mw_rot\u001b[0m\u001b[0;34m\u001b[0m\u001b[0;34m\u001b[0m\u001b[0m\n\u001b[1;32m     23\u001b[0m \u001b[0;31m#     print(np.round(A,decimals = 3))\u001b[0m\u001b[0;34m\u001b[0m\u001b[0;34m\u001b[0m\u001b[0;34m\u001b[0m\u001b[0m\n\u001b[0;32m---> 24\u001b[0;31m     \u001b[0mx_\u001b[0m \u001b[0;34m=\u001b[0m \u001b[0mnp\u001b[0m\u001b[0;34m.\u001b[0m\u001b[0mdot\u001b[0m\u001b[0;34m(\u001b[0m\u001b[0mA\u001b[0m\u001b[0;34m,\u001b[0m\u001b[0mx\u001b[0m\u001b[0;34m)\u001b[0m\u001b[0;34m\u001b[0m\u001b[0;34m\u001b[0m\u001b[0m\n\u001b[0m\u001b[1;32m     25\u001b[0m \u001b[0;34m\u001b[0m\u001b[0m\n\u001b[1;32m     26\u001b[0m     \u001b[0mP\u001b[0m \u001b[0;34m=\u001b[0m \u001b[0mnp\u001b[0m\u001b[0;34m.\u001b[0m\u001b[0mdot\u001b[0m\u001b[0;34m(\u001b[0m\u001b[0mnp\u001b[0m\u001b[0;34m.\u001b[0m\u001b[0mdot\u001b[0m\u001b[0;34m(\u001b[0m\u001b[0mA\u001b[0m\u001b[0;34m,\u001b[0m\u001b[0mP\u001b[0m\u001b[0;34m)\u001b[0m\u001b[0;34m,\u001b[0m\u001b[0mnp\u001b[0m\u001b[0;34m.\u001b[0m\u001b[0mtranspose\u001b[0m\u001b[0;34m(\u001b[0m\u001b[0mA\u001b[0m\u001b[0;34m)\u001b[0m\u001b[0;34m)\u001b[0m \u001b[0;34m+\u001b[0m \u001b[0mQ\u001b[0m\u001b[0;34m\u001b[0m\u001b[0;34m\u001b[0m\u001b[0m\n",
      "\u001b[0;31mValueError\u001b[0m: shapes (4,4) and (100,100) not aligned: 4 (dim 1) != 100 (dim 0)"
     ]
    }
   ],
   "source": [
    "for (index,i) in enumerate(np.transpose(a)):\n",
    "#     print(i)\n",
    "    \n",
    "    quat_rot(i,w[:,index],0.00635)"
   ]
  },
  {
   "cell_type": "code",
   "execution_count": 1009,
   "metadata": {},
   "outputs": [
    {
     "ename": "ValueError",
     "evalue": "x and y must have same first dimension, but have shapes (9998,) and (19996,)",
     "output_type": "error",
     "traceback": [
      "\u001b[0;31m---------------------------------------------------------------------------\u001b[0m",
      "\u001b[0;31mValueError\u001b[0m                                Traceback (most recent call last)",
      "\u001b[0;32m<ipython-input-1009-9581f42d81f7>\u001b[0m in \u001b[0;36m<module>\u001b[0;34m()\u001b[0m\n\u001b[1;32m      1\u001b[0m \u001b[0;34m\u001b[0m\u001b[0m\n\u001b[0;32m----> 2\u001b[0;31m \u001b[0mplt\u001b[0m\u001b[0;34m.\u001b[0m\u001b[0mplot\u001b[0m\u001b[0;34m(\u001b[0m\u001b[0mtime\u001b[0m\u001b[0;34m,\u001b[0m\u001b[0mquat_\u001b[0m\u001b[0;34m,\u001b[0m\u001b[0mlabel\u001b[0m\u001b[0;34m=\u001b[0m\u001b[0;34m'gyro_angle drift'\u001b[0m\u001b[0;34m,\u001b[0m\u001b[0mlinewidth\u001b[0m\u001b[0;34m=\u001b[0m\u001b[0;36m1\u001b[0m\u001b[0;34m)\u001b[0m\u001b[0;34m\u001b[0m\u001b[0;34m\u001b[0m\u001b[0m\n\u001b[0m\u001b[1;32m      3\u001b[0m \u001b[0mplt\u001b[0m\u001b[0;34m.\u001b[0m\u001b[0mshow\u001b[0m\u001b[0;34m(\u001b[0m\u001b[0;34m)\u001b[0m\u001b[0;34m\u001b[0m\u001b[0;34m\u001b[0m\u001b[0m\n\u001b[1;32m      4\u001b[0m \u001b[0;34m\u001b[0m\u001b[0m\n\u001b[1;32m      5\u001b[0m \u001b[0mgyro_angle\u001b[0m \u001b[0;34m=\u001b[0m \u001b[0;34m[\u001b[0m\u001b[0;34m]\u001b[0m\u001b[0;34m\u001b[0m\u001b[0;34m\u001b[0m\u001b[0m\n",
      "\u001b[0;32m/usr/lib/python2.7/dist-packages/matplotlib/pyplot.pyc\u001b[0m in \u001b[0;36mplot\u001b[0;34m(*args, **kwargs)\u001b[0m\n\u001b[1;32m   3259\u001b[0m                       mplDeprecation)\n\u001b[1;32m   3260\u001b[0m     \u001b[0;32mtry\u001b[0m\u001b[0;34m:\u001b[0m\u001b[0;34m\u001b[0m\u001b[0;34m\u001b[0m\u001b[0m\n\u001b[0;32m-> 3261\u001b[0;31m         \u001b[0mret\u001b[0m \u001b[0;34m=\u001b[0m \u001b[0max\u001b[0m\u001b[0;34m.\u001b[0m\u001b[0mplot\u001b[0m\u001b[0;34m(\u001b[0m\u001b[0;34m*\u001b[0m\u001b[0margs\u001b[0m\u001b[0;34m,\u001b[0m \u001b[0;34m**\u001b[0m\u001b[0mkwargs\u001b[0m\u001b[0;34m)\u001b[0m\u001b[0;34m\u001b[0m\u001b[0;34m\u001b[0m\u001b[0m\n\u001b[0m\u001b[1;32m   3262\u001b[0m     \u001b[0;32mfinally\u001b[0m\u001b[0;34m:\u001b[0m\u001b[0;34m\u001b[0m\u001b[0;34m\u001b[0m\u001b[0m\n\u001b[1;32m   3263\u001b[0m         \u001b[0max\u001b[0m\u001b[0;34m.\u001b[0m\u001b[0m_hold\u001b[0m \u001b[0;34m=\u001b[0m \u001b[0mwashold\u001b[0m\u001b[0;34m\u001b[0m\u001b[0;34m\u001b[0m\u001b[0m\n",
      "\u001b[0;32m/usr/lib/python2.7/dist-packages/matplotlib/__init__.pyc\u001b[0m in \u001b[0;36minner\u001b[0;34m(ax, *args, **kwargs)\u001b[0m\n\u001b[1;32m   1716\u001b[0m                     warnings.warn(msg % (label_namer, func.__name__),\n\u001b[1;32m   1717\u001b[0m                                   RuntimeWarning, stacklevel=2)\n\u001b[0;32m-> 1718\u001b[0;31m             \u001b[0;32mreturn\u001b[0m \u001b[0mfunc\u001b[0m\u001b[0;34m(\u001b[0m\u001b[0max\u001b[0m\u001b[0;34m,\u001b[0m \u001b[0;34m*\u001b[0m\u001b[0margs\u001b[0m\u001b[0;34m,\u001b[0m \u001b[0;34m**\u001b[0m\u001b[0mkwargs\u001b[0m\u001b[0;34m)\u001b[0m\u001b[0;34m\u001b[0m\u001b[0;34m\u001b[0m\u001b[0m\n\u001b[0m\u001b[1;32m   1719\u001b[0m         \u001b[0mpre_doc\u001b[0m \u001b[0;34m=\u001b[0m \u001b[0minner\u001b[0m\u001b[0;34m.\u001b[0m\u001b[0m__doc__\u001b[0m\u001b[0;34m\u001b[0m\u001b[0;34m\u001b[0m\u001b[0m\n\u001b[1;32m   1720\u001b[0m         \u001b[0;32mif\u001b[0m \u001b[0mpre_doc\u001b[0m \u001b[0;32mis\u001b[0m \u001b[0mNone\u001b[0m\u001b[0;34m:\u001b[0m\u001b[0;34m\u001b[0m\u001b[0;34m\u001b[0m\u001b[0m\n",
      "\u001b[0;32m/usr/lib/python2.7/dist-packages/matplotlib/axes/_axes.pyc\u001b[0m in \u001b[0;36mplot\u001b[0;34m(self, *args, **kwargs)\u001b[0m\n\u001b[1;32m   1370\u001b[0m         \u001b[0mkwargs\u001b[0m \u001b[0;34m=\u001b[0m \u001b[0mcbook\u001b[0m\u001b[0;34m.\u001b[0m\u001b[0mnormalize_kwargs\u001b[0m\u001b[0;34m(\u001b[0m\u001b[0mkwargs\u001b[0m\u001b[0;34m,\u001b[0m \u001b[0m_alias_map\u001b[0m\u001b[0;34m)\u001b[0m\u001b[0;34m\u001b[0m\u001b[0;34m\u001b[0m\u001b[0m\n\u001b[1;32m   1371\u001b[0m \u001b[0;34m\u001b[0m\u001b[0m\n\u001b[0;32m-> 1372\u001b[0;31m         \u001b[0;32mfor\u001b[0m \u001b[0mline\u001b[0m \u001b[0;32min\u001b[0m \u001b[0mself\u001b[0m\u001b[0;34m.\u001b[0m\u001b[0m_get_lines\u001b[0m\u001b[0;34m(\u001b[0m\u001b[0;34m*\u001b[0m\u001b[0margs\u001b[0m\u001b[0;34m,\u001b[0m \u001b[0;34m**\u001b[0m\u001b[0mkwargs\u001b[0m\u001b[0;34m)\u001b[0m\u001b[0;34m:\u001b[0m\u001b[0;34m\u001b[0m\u001b[0;34m\u001b[0m\u001b[0m\n\u001b[0m\u001b[1;32m   1373\u001b[0m             \u001b[0mself\u001b[0m\u001b[0;34m.\u001b[0m\u001b[0madd_line\u001b[0m\u001b[0;34m(\u001b[0m\u001b[0mline\u001b[0m\u001b[0;34m)\u001b[0m\u001b[0;34m\u001b[0m\u001b[0;34m\u001b[0m\u001b[0m\n\u001b[1;32m   1374\u001b[0m             \u001b[0mlines\u001b[0m\u001b[0;34m.\u001b[0m\u001b[0mappend\u001b[0m\u001b[0;34m(\u001b[0m\u001b[0mline\u001b[0m\u001b[0;34m)\u001b[0m\u001b[0;34m\u001b[0m\u001b[0;34m\u001b[0m\u001b[0m\n",
      "\u001b[0;32m/usr/lib/python2.7/dist-packages/matplotlib/axes/_base.pyc\u001b[0m in \u001b[0;36m_grab_next_args\u001b[0;34m(self, *args, **kwargs)\u001b[0m\n\u001b[1;32m    402\u001b[0m                 \u001b[0mthis\u001b[0m \u001b[0;34m+=\u001b[0m \u001b[0margs\u001b[0m\u001b[0;34m[\u001b[0m\u001b[0;36m0\u001b[0m\u001b[0;34m]\u001b[0m\u001b[0;34m,\u001b[0m\u001b[0;34m\u001b[0m\u001b[0;34m\u001b[0m\u001b[0m\n\u001b[1;32m    403\u001b[0m                 \u001b[0margs\u001b[0m \u001b[0;34m=\u001b[0m \u001b[0margs\u001b[0m\u001b[0;34m[\u001b[0m\u001b[0;36m1\u001b[0m\u001b[0;34m:\u001b[0m\u001b[0;34m]\u001b[0m\u001b[0;34m\u001b[0m\u001b[0;34m\u001b[0m\u001b[0m\n\u001b[0;32m--> 404\u001b[0;31m             \u001b[0;32mfor\u001b[0m \u001b[0mseg\u001b[0m \u001b[0;32min\u001b[0m \u001b[0mself\u001b[0m\u001b[0;34m.\u001b[0m\u001b[0m_plot_args\u001b[0m\u001b[0;34m(\u001b[0m\u001b[0mthis\u001b[0m\u001b[0;34m,\u001b[0m \u001b[0mkwargs\u001b[0m\u001b[0;34m)\u001b[0m\u001b[0;34m:\u001b[0m\u001b[0;34m\u001b[0m\u001b[0;34m\u001b[0m\u001b[0m\n\u001b[0m\u001b[1;32m    405\u001b[0m                 \u001b[0;32myield\u001b[0m \u001b[0mseg\u001b[0m\u001b[0;34m\u001b[0m\u001b[0;34m\u001b[0m\u001b[0m\n\u001b[1;32m    406\u001b[0m \u001b[0;34m\u001b[0m\u001b[0m\n",
      "\u001b[0;32m/usr/lib/python2.7/dist-packages/matplotlib/axes/_base.pyc\u001b[0m in \u001b[0;36m_plot_args\u001b[0;34m(self, tup, kwargs)\u001b[0m\n\u001b[1;32m    382\u001b[0m             \u001b[0mx\u001b[0m\u001b[0;34m,\u001b[0m \u001b[0my\u001b[0m \u001b[0;34m=\u001b[0m \u001b[0mindex_of\u001b[0m\u001b[0;34m(\u001b[0m\u001b[0mtup\u001b[0m\u001b[0;34m[\u001b[0m\u001b[0;34m-\u001b[0m\u001b[0;36m1\u001b[0m\u001b[0;34m]\u001b[0m\u001b[0;34m)\u001b[0m\u001b[0;34m\u001b[0m\u001b[0;34m\u001b[0m\u001b[0m\n\u001b[1;32m    383\u001b[0m \u001b[0;34m\u001b[0m\u001b[0m\n\u001b[0;32m--> 384\u001b[0;31m         \u001b[0mx\u001b[0m\u001b[0;34m,\u001b[0m \u001b[0my\u001b[0m \u001b[0;34m=\u001b[0m \u001b[0mself\u001b[0m\u001b[0;34m.\u001b[0m\u001b[0m_xy_from_xy\u001b[0m\u001b[0;34m(\u001b[0m\u001b[0mx\u001b[0m\u001b[0;34m,\u001b[0m \u001b[0my\u001b[0m\u001b[0;34m)\u001b[0m\u001b[0;34m\u001b[0m\u001b[0;34m\u001b[0m\u001b[0m\n\u001b[0m\u001b[1;32m    385\u001b[0m \u001b[0;34m\u001b[0m\u001b[0m\n\u001b[1;32m    386\u001b[0m         \u001b[0;32mif\u001b[0m \u001b[0mself\u001b[0m\u001b[0;34m.\u001b[0m\u001b[0mcommand\u001b[0m \u001b[0;34m==\u001b[0m \u001b[0;34m'plot'\u001b[0m\u001b[0;34m:\u001b[0m\u001b[0;34m\u001b[0m\u001b[0;34m\u001b[0m\u001b[0m\n",
      "\u001b[0;32m/usr/lib/python2.7/dist-packages/matplotlib/axes/_base.pyc\u001b[0m in \u001b[0;36m_xy_from_xy\u001b[0;34m(self, x, y)\u001b[0m\n\u001b[1;32m    241\u001b[0m         \u001b[0;32mif\u001b[0m \u001b[0mx\u001b[0m\u001b[0;34m.\u001b[0m\u001b[0mshape\u001b[0m\u001b[0;34m[\u001b[0m\u001b[0;36m0\u001b[0m\u001b[0;34m]\u001b[0m \u001b[0;34m!=\u001b[0m \u001b[0my\u001b[0m\u001b[0;34m.\u001b[0m\u001b[0mshape\u001b[0m\u001b[0;34m[\u001b[0m\u001b[0;36m0\u001b[0m\u001b[0;34m]\u001b[0m\u001b[0;34m:\u001b[0m\u001b[0;34m\u001b[0m\u001b[0;34m\u001b[0m\u001b[0m\n\u001b[1;32m    242\u001b[0m             raise ValueError(\"x and y must have same first dimension, but \"\n\u001b[0;32m--> 243\u001b[0;31m                              \"have shapes {} and {}\".format(x.shape, y.shape))\n\u001b[0m\u001b[1;32m    244\u001b[0m         \u001b[0;32mif\u001b[0m \u001b[0mx\u001b[0m\u001b[0;34m.\u001b[0m\u001b[0mndim\u001b[0m \u001b[0;34m>\u001b[0m \u001b[0;36m2\u001b[0m \u001b[0;32mor\u001b[0m \u001b[0my\u001b[0m\u001b[0;34m.\u001b[0m\u001b[0mndim\u001b[0m \u001b[0;34m>\u001b[0m \u001b[0;36m2\u001b[0m\u001b[0;34m:\u001b[0m\u001b[0;34m\u001b[0m\u001b[0;34m\u001b[0m\u001b[0m\n\u001b[1;32m    245\u001b[0m             raise ValueError(\"x and y can be no greater than 2-D, but have \"\n",
      "\u001b[0;31mValueError\u001b[0m: x and y must have same first dimension, but have shapes (9998,) and (19996,)"
     ]
    },
    {
     "data": {
      "image/png": "[encoded data removed]",
      "text/plain": [
       "<matplotlib.figure.Figure at 0x7fbe9f8dce90>"
      ]
     },
     "metadata": {
      "needs_background": "light"
     },
     "output_type": "display_data"
    }
   ],
   "source": [
    "\n",
    "plt.plot(time,quat_,label='gyro_angle drift',linewidth=1)\n",
    "plt.show()\n",
    "\n",
    "gyro_angle = []\n",
    "gyro_tmp = 0\n",
    "for (i,t) in enumerate(time[0:100000]):\n",
    "    gyro_tmp = gyro_tmp + dt*((Gyro_z[i]  + 15.6256062561)/16.4)\n",
    "    gyro_angle.append(gyro_tmp)\n",
    "\n",
    "plt.plot(time,gyro_angle,label='gyro_angle drift',linewidth=1)\n",
    "plt.show()"
   ]
  },
  {
   "cell_type": "code",
   "execution_count": 1010,
   "metadata": {},
   "outputs": [
    {
     "ename": "ValueError",
     "evalue": "x and y must be the same size",
     "output_type": "error",
     "traceback": [
      "\u001b[0;31m---------------------------------------------------------------------------\u001b[0m",
      "\u001b[0;31mValueError\u001b[0m                                Traceback (most recent call last)",
      "\u001b[0;32m<ipython-input-1010-0057b8b97903>\u001b[0m in \u001b[0;36m<module>\u001b[0;34m()\u001b[0m\n\u001b[0;32m----> 1\u001b[0;31m \u001b[0mplt\u001b[0m\u001b[0;34m.\u001b[0m\u001b[0mscatter\u001b[0m\u001b[0;34m(\u001b[0m\u001b[0mtime\u001b[0m\u001b[0;34m,\u001b[0m\u001b[0mquat1_\u001b[0m\u001b[0;34m,\u001b[0m\u001b[0mlabel\u001b[0m\u001b[0;34m=\u001b[0m\u001b[0;34m'gyro_angle drift'\u001b[0m\u001b[0;34m,\u001b[0m\u001b[0mlinewidth\u001b[0m\u001b[0;34m=\u001b[0m\u001b[0;36m1\u001b[0m\u001b[0;34m)\u001b[0m\u001b[0;34m\u001b[0m\u001b[0;34m\u001b[0m\u001b[0m\n\u001b[0m\u001b[1;32m      2\u001b[0m \u001b[0mplt\u001b[0m\u001b[0;34m.\u001b[0m\u001b[0mshow\u001b[0m\u001b[0;34m(\u001b[0m\u001b[0;34m)\u001b[0m\u001b[0;34m\u001b[0m\u001b[0;34m\u001b[0m\u001b[0m\n\u001b[1;32m      3\u001b[0m \u001b[0mgyro_angle\u001b[0m \u001b[0;34m=\u001b[0m \u001b[0;34m[\u001b[0m\u001b[0;34m]\u001b[0m\u001b[0;34m\u001b[0m\u001b[0;34m\u001b[0m\u001b[0m\n\u001b[1;32m      4\u001b[0m \u001b[0mgyro_tmp\u001b[0m \u001b[0;34m=\u001b[0m \u001b[0;36m0\u001b[0m\u001b[0;34m\u001b[0m\u001b[0;34m\u001b[0m\u001b[0m\n\u001b[1;32m      5\u001b[0m \u001b[0;32mfor\u001b[0m \u001b[0;34m(\u001b[0m\u001b[0mi\u001b[0m\u001b[0;34m,\u001b[0m\u001b[0mt\u001b[0m\u001b[0;34m)\u001b[0m \u001b[0;32min\u001b[0m \u001b[0menumerate\u001b[0m\u001b[0;34m(\u001b[0m\u001b[0mtime\u001b[0m\u001b[0;34m[\u001b[0m\u001b[0;36m0\u001b[0m\u001b[0;34m:\u001b[0m\u001b[0;36m100000\u001b[0m\u001b[0;34m]\u001b[0m\u001b[0;34m)\u001b[0m\u001b[0;34m:\u001b[0m\u001b[0;34m\u001b[0m\u001b[0;34m\u001b[0m\u001b[0m\n",
      "\u001b[0;32m/usr/lib/python2.7/dist-packages/matplotlib/pyplot.pyc\u001b[0m in \u001b[0;36mscatter\u001b[0;34m(x, y, s, c, marker, cmap, norm, vmin, vmax, alpha, linewidths, verts, edgecolors, hold, data, **kwargs)\u001b[0m\n\u001b[1;32m   3376\u001b[0m                          \u001b[0mvmin\u001b[0m\u001b[0;34m=\u001b[0m\u001b[0mvmin\u001b[0m\u001b[0;34m,\u001b[0m \u001b[0mvmax\u001b[0m\u001b[0;34m=\u001b[0m\u001b[0mvmax\u001b[0m\u001b[0;34m,\u001b[0m \u001b[0malpha\u001b[0m\u001b[0;34m=\u001b[0m\u001b[0malpha\u001b[0m\u001b[0;34m,\u001b[0m\u001b[0;34m\u001b[0m\u001b[0;34m\u001b[0m\u001b[0m\n\u001b[1;32m   3377\u001b[0m                          \u001b[0mlinewidths\u001b[0m\u001b[0;34m=\u001b[0m\u001b[0mlinewidths\u001b[0m\u001b[0;34m,\u001b[0m \u001b[0mverts\u001b[0m\u001b[0;34m=\u001b[0m\u001b[0mverts\u001b[0m\u001b[0;34m,\u001b[0m\u001b[0;34m\u001b[0m\u001b[0;34m\u001b[0m\u001b[0m\n\u001b[0;32m-> 3378\u001b[0;31m                          edgecolors=edgecolors, data=data, **kwargs)\n\u001b[0m\u001b[1;32m   3379\u001b[0m     \u001b[0;32mfinally\u001b[0m\u001b[0;34m:\u001b[0m\u001b[0;34m\u001b[0m\u001b[0;34m\u001b[0m\u001b[0m\n\u001b[1;32m   3380\u001b[0m         \u001b[0max\u001b[0m\u001b[0;34m.\u001b[0m\u001b[0m_hold\u001b[0m \u001b[0;34m=\u001b[0m \u001b[0mwashold\u001b[0m\u001b[0;34m\u001b[0m\u001b[0;34m\u001b[0m\u001b[0m\n",
      "\u001b[0;32m/usr/lib/python2.7/dist-packages/matplotlib/__init__.pyc\u001b[0m in \u001b[0;36minner\u001b[0;34m(ax, *args, **kwargs)\u001b[0m\n\u001b[1;32m   1716\u001b[0m                     warnings.warn(msg % (label_namer, func.__name__),\n\u001b[1;32m   1717\u001b[0m                                   RuntimeWarning, stacklevel=2)\n\u001b[0;32m-> 1718\u001b[0;31m             \u001b[0;32mreturn\u001b[0m \u001b[0mfunc\u001b[0m\u001b[0;34m(\u001b[0m\u001b[0max\u001b[0m\u001b[0;34m,\u001b[0m \u001b[0;34m*\u001b[0m\u001b[0margs\u001b[0m\u001b[0;34m,\u001b[0m \u001b[0;34m**\u001b[0m\u001b[0mkwargs\u001b[0m\u001b[0;34m)\u001b[0m\u001b[0;34m\u001b[0m\u001b[0;34m\u001b[0m\u001b[0m\n\u001b[0m\u001b[1;32m   1719\u001b[0m         \u001b[0mpre_doc\u001b[0m \u001b[0;34m=\u001b[0m \u001b[0minner\u001b[0m\u001b[0;34m.\u001b[0m\u001b[0m__doc__\u001b[0m\u001b[0;34m\u001b[0m\u001b[0;34m\u001b[0m\u001b[0m\n\u001b[1;32m   1720\u001b[0m         \u001b[0;32mif\u001b[0m \u001b[0mpre_doc\u001b[0m \u001b[0;32mis\u001b[0m \u001b[0mNone\u001b[0m\u001b[0;34m:\u001b[0m\u001b[0;34m\u001b[0m\u001b[0;34m\u001b[0m\u001b[0m\n",
      "\u001b[0;32m/usr/lib/python2.7/dist-packages/matplotlib/axes/_axes.pyc\u001b[0m in \u001b[0;36mscatter\u001b[0;34m(self, x, y, s, c, marker, cmap, norm, vmin, vmax, alpha, linewidths, verts, edgecolors, **kwargs)\u001b[0m\n\u001b[1;32m   3950\u001b[0m         \u001b[0my\u001b[0m \u001b[0;34m=\u001b[0m \u001b[0mnp\u001b[0m\u001b[0;34m.\u001b[0m\u001b[0mma\u001b[0m\u001b[0;34m.\u001b[0m\u001b[0mravel\u001b[0m\u001b[0;34m(\u001b[0m\u001b[0my\u001b[0m\u001b[0;34m)\u001b[0m\u001b[0;34m\u001b[0m\u001b[0;34m\u001b[0m\u001b[0m\n\u001b[1;32m   3951\u001b[0m         \u001b[0;32mif\u001b[0m \u001b[0mx\u001b[0m\u001b[0;34m.\u001b[0m\u001b[0msize\u001b[0m \u001b[0;34m!=\u001b[0m \u001b[0my\u001b[0m\u001b[0;34m.\u001b[0m\u001b[0msize\u001b[0m\u001b[0;34m:\u001b[0m\u001b[0;34m\u001b[0m\u001b[0;34m\u001b[0m\u001b[0m\n\u001b[0;32m-> 3952\u001b[0;31m             \u001b[0;32mraise\u001b[0m \u001b[0mValueError\u001b[0m\u001b[0;34m(\u001b[0m\u001b[0;34m\"x and y must be the same size\"\u001b[0m\u001b[0;34m)\u001b[0m\u001b[0;34m\u001b[0m\u001b[0;34m\u001b[0m\u001b[0m\n\u001b[0m\u001b[1;32m   3953\u001b[0m \u001b[0;34m\u001b[0m\u001b[0m\n\u001b[1;32m   3954\u001b[0m         \u001b[0;32mif\u001b[0m \u001b[0ms\u001b[0m \u001b[0;32mis\u001b[0m \u001b[0mNone\u001b[0m\u001b[0;34m:\u001b[0m\u001b[0;34m\u001b[0m\u001b[0;34m\u001b[0m\u001b[0m\n",
      "\u001b[0;31mValueError\u001b[0m: x and y must be the same size"
     ]
    },
    {
     "data": {
      "image/png": "[encoded data removed]",
      "text/plain": [
       "<matplotlib.figure.Figure at 0x7fbe9fcd4a50>"
      ]
     },
     "metadata": {
      "needs_background": "light"
     },
     "output_type": "display_data"
    }
   ],
   "source": [
    "plt.scatter(time,quat1_,label='gyro_angle drift',linewidth=1)\n",
    "plt.show()\n",
    "gyro_angle = []\n",
    "gyro_tmp = 0\n",
    "for (i,t) in enumerate(time[0:100000]):\n",
    "    gyro_tmp = gyro_tmp + dt*((Gyro_z[i]  + 15.6256062561)/16.4)\n",
    "    gyro_angle.append(gyro_tmp)\n",
    "\n",
    "plt.scatter(time,gyro_angle,label='gyro_angle drift',linewidth=1)\n",
    "plt.show()"
   ]
  },
  {
   "cell_type": "code",
   "execution_count": 1011,
   "metadata": {},
   "outputs": [
    {
     "ename": "ValueError",
     "evalue": "x and y must have same first dimension, but have shapes (9998,) and (19996,)",
     "output_type": "error",
     "traceback": [
      "\u001b[0;31m---------------------------------------------------------------------------\u001b[0m",
      "\u001b[0;31mValueError\u001b[0m                                Traceback (most recent call last)",
      "\u001b[0;32m<ipython-input-1011-40ab5ee1da7c>\u001b[0m in \u001b[0;36m<module>\u001b[0;34m()\u001b[0m\n\u001b[0;32m----> 1\u001b[0;31m \u001b[0mplt\u001b[0m\u001b[0;34m.\u001b[0m\u001b[0mplot\u001b[0m\u001b[0;34m(\u001b[0m\u001b[0mtime\u001b[0m\u001b[0;34m,\u001b[0m\u001b[0mquat2_\u001b[0m\u001b[0;34m,\u001b[0m\u001b[0mlabel\u001b[0m\u001b[0;34m=\u001b[0m\u001b[0;34m'gyro_angle drift'\u001b[0m\u001b[0;34m,\u001b[0m\u001b[0mlinewidth\u001b[0m\u001b[0;34m=\u001b[0m\u001b[0;36m1\u001b[0m\u001b[0;34m)\u001b[0m\u001b[0;34m\u001b[0m\u001b[0;34m\u001b[0m\u001b[0m\n\u001b[0m\u001b[1;32m      2\u001b[0m \u001b[0mplt\u001b[0m\u001b[0;34m.\u001b[0m\u001b[0mshow\u001b[0m\u001b[0;34m(\u001b[0m\u001b[0;34m)\u001b[0m\u001b[0;34m\u001b[0m\u001b[0;34m\u001b[0m\u001b[0m\n\u001b[1;32m      3\u001b[0m \u001b[0mgyro_angle\u001b[0m \u001b[0;34m=\u001b[0m \u001b[0;34m[\u001b[0m\u001b[0;34m]\u001b[0m\u001b[0;34m\u001b[0m\u001b[0;34m\u001b[0m\u001b[0m\n\u001b[1;32m      4\u001b[0m \u001b[0mgyro_tmp\u001b[0m \u001b[0;34m=\u001b[0m \u001b[0;36m0\u001b[0m\u001b[0;34m\u001b[0m\u001b[0;34m\u001b[0m\u001b[0m\n\u001b[1;32m      5\u001b[0m \u001b[0;32mfor\u001b[0m \u001b[0;34m(\u001b[0m\u001b[0mi\u001b[0m\u001b[0;34m,\u001b[0m\u001b[0mt\u001b[0m\u001b[0;34m)\u001b[0m \u001b[0;32min\u001b[0m \u001b[0menumerate\u001b[0m\u001b[0;34m(\u001b[0m\u001b[0mtime\u001b[0m\u001b[0;34m[\u001b[0m\u001b[0;36m0\u001b[0m\u001b[0;34m:\u001b[0m\u001b[0;36m100000\u001b[0m\u001b[0;34m]\u001b[0m\u001b[0;34m)\u001b[0m\u001b[0;34m:\u001b[0m\u001b[0;34m\u001b[0m\u001b[0;34m\u001b[0m\u001b[0m\n",
      "\u001b[0;32m/usr/lib/python2.7/dist-packages/matplotlib/pyplot.pyc\u001b[0m in \u001b[0;36mplot\u001b[0;34m(*args, **kwargs)\u001b[0m\n\u001b[1;32m   3259\u001b[0m                       mplDeprecation)\n\u001b[1;32m   3260\u001b[0m     \u001b[0;32mtry\u001b[0m\u001b[0;34m:\u001b[0m\u001b[0;34m\u001b[0m\u001b[0;34m\u001b[0m\u001b[0m\n\u001b[0;32m-> 3261\u001b[0;31m         \u001b[0mret\u001b[0m \u001b[0;34m=\u001b[0m \u001b[0max\u001b[0m\u001b[0;34m.\u001b[0m\u001b[0mplot\u001b[0m\u001b[0;34m(\u001b[0m\u001b[0;34m*\u001b[0m\u001b[0margs\u001b[0m\u001b[0;34m,\u001b[0m \u001b[0;34m**\u001b[0m\u001b[0mkwargs\u001b[0m\u001b[0;34m)\u001b[0m\u001b[0;34m\u001b[0m\u001b[0;34m\u001b[0m\u001b[0m\n\u001b[0m\u001b[1;32m   3262\u001b[0m     \u001b[0;32mfinally\u001b[0m\u001b[0;34m:\u001b[0m\u001b[0;34m\u001b[0m\u001b[0;34m\u001b[0m\u001b[0m\n\u001b[1;32m   3263\u001b[0m         \u001b[0max\u001b[0m\u001b[0;34m.\u001b[0m\u001b[0m_hold\u001b[0m \u001b[0;34m=\u001b[0m \u001b[0mwashold\u001b[0m\u001b[0;34m\u001b[0m\u001b[0;34m\u001b[0m\u001b[0m\n",
      "\u001b[0;32m/usr/lib/python2.7/dist-packages/matplotlib/__init__.pyc\u001b[0m in \u001b[0;36minner\u001b[0;34m(ax, *args, **kwargs)\u001b[0m\n\u001b[1;32m   1716\u001b[0m                     warnings.warn(msg % (label_namer, func.__name__),\n\u001b[1;32m   1717\u001b[0m                                   RuntimeWarning, stacklevel=2)\n\u001b[0;32m-> 1718\u001b[0;31m             \u001b[0;32mreturn\u001b[0m \u001b[0mfunc\u001b[0m\u001b[0;34m(\u001b[0m\u001b[0max\u001b[0m\u001b[0;34m,\u001b[0m \u001b[0;34m*\u001b[0m\u001b[0margs\u001b[0m\u001b[0;34m,\u001b[0m \u001b[0;34m**\u001b[0m\u001b[0mkwargs\u001b[0m\u001b[0;34m)\u001b[0m\u001b[0;34m\u001b[0m\u001b[0;34m\u001b[0m\u001b[0m\n\u001b[0m\u001b[1;32m   1719\u001b[0m         \u001b[0mpre_doc\u001b[0m \u001b[0;34m=\u001b[0m \u001b[0minner\u001b[0m\u001b[0;34m.\u001b[0m\u001b[0m__doc__\u001b[0m\u001b[0;34m\u001b[0m\u001b[0;34m\u001b[0m\u001b[0m\n\u001b[1;32m   1720\u001b[0m         \u001b[0;32mif\u001b[0m \u001b[0mpre_doc\u001b[0m \u001b[0;32mis\u001b[0m \u001b[0mNone\u001b[0m\u001b[0;34m:\u001b[0m\u001b[0;34m\u001b[0m\u001b[0;34m\u001b[0m\u001b[0m\n",
      "\u001b[0;32m/usr/lib/python2.7/dist-packages/matplotlib/axes/_axes.pyc\u001b[0m in \u001b[0;36mplot\u001b[0;34m(self, *args, **kwargs)\u001b[0m\n\u001b[1;32m   1370\u001b[0m         \u001b[0mkwargs\u001b[0m \u001b[0;34m=\u001b[0m \u001b[0mcbook\u001b[0m\u001b[0;34m.\u001b[0m\u001b[0mnormalize_kwargs\u001b[0m\u001b[0;34m(\u001b[0m\u001b[0mkwargs\u001b[0m\u001b[0;34m,\u001b[0m \u001b[0m_alias_map\u001b[0m\u001b[0;34m)\u001b[0m\u001b[0;34m\u001b[0m\u001b[0;34m\u001b[0m\u001b[0m\n\u001b[1;32m   1371\u001b[0m \u001b[0;34m\u001b[0m\u001b[0m\n\u001b[0;32m-> 1372\u001b[0;31m         \u001b[0;32mfor\u001b[0m \u001b[0mline\u001b[0m \u001b[0;32min\u001b[0m \u001b[0mself\u001b[0m\u001b[0;34m.\u001b[0m\u001b[0m_get_lines\u001b[0m\u001b[0;34m(\u001b[0m\u001b[0;34m*\u001b[0m\u001b[0margs\u001b[0m\u001b[0;34m,\u001b[0m \u001b[0;34m**\u001b[0m\u001b[0mkwargs\u001b[0m\u001b[0;34m)\u001b[0m\u001b[0;34m:\u001b[0m\u001b[0;34m\u001b[0m\u001b[0;34m\u001b[0m\u001b[0m\n\u001b[0m\u001b[1;32m   1373\u001b[0m             \u001b[0mself\u001b[0m\u001b[0;34m.\u001b[0m\u001b[0madd_line\u001b[0m\u001b[0;34m(\u001b[0m\u001b[0mline\u001b[0m\u001b[0;34m)\u001b[0m\u001b[0;34m\u001b[0m\u001b[0;34m\u001b[0m\u001b[0m\n\u001b[1;32m   1374\u001b[0m             \u001b[0mlines\u001b[0m\u001b[0;34m.\u001b[0m\u001b[0mappend\u001b[0m\u001b[0;34m(\u001b[0m\u001b[0mline\u001b[0m\u001b[0;34m)\u001b[0m\u001b[0;34m\u001b[0m\u001b[0;34m\u001b[0m\u001b[0m\n",
      "\u001b[0;32m/usr/lib/python2.7/dist-packages/matplotlib/axes/_base.pyc\u001b[0m in \u001b[0;36m_grab_next_args\u001b[0;34m(self, *args, **kwargs)\u001b[0m\n\u001b[1;32m    402\u001b[0m                 \u001b[0mthis\u001b[0m \u001b[0;34m+=\u001b[0m \u001b[0margs\u001b[0m\u001b[0;34m[\u001b[0m\u001b[0;36m0\u001b[0m\u001b[0;34m]\u001b[0m\u001b[0;34m,\u001b[0m\u001b[0;34m\u001b[0m\u001b[0;34m\u001b[0m\u001b[0m\n\u001b[1;32m    403\u001b[0m                 \u001b[0margs\u001b[0m \u001b[0;34m=\u001b[0m \u001b[0margs\u001b[0m\u001b[0;34m[\u001b[0m\u001b[0;36m1\u001b[0m\u001b[0;34m:\u001b[0m\u001b[0;34m]\u001b[0m\u001b[0;34m\u001b[0m\u001b[0;34m\u001b[0m\u001b[0m\n\u001b[0;32m--> 404\u001b[0;31m             \u001b[0;32mfor\u001b[0m \u001b[0mseg\u001b[0m \u001b[0;32min\u001b[0m \u001b[0mself\u001b[0m\u001b[0;34m.\u001b[0m\u001b[0m_plot_args\u001b[0m\u001b[0;34m(\u001b[0m\u001b[0mthis\u001b[0m\u001b[0;34m,\u001b[0m \u001b[0mkwargs\u001b[0m\u001b[0;34m)\u001b[0m\u001b[0;34m:\u001b[0m\u001b[0;34m\u001b[0m\u001b[0;34m\u001b[0m\u001b[0m\n\u001b[0m\u001b[1;32m    405\u001b[0m                 \u001b[0;32myield\u001b[0m \u001b[0mseg\u001b[0m\u001b[0;34m\u001b[0m\u001b[0;34m\u001b[0m\u001b[0m\n\u001b[1;32m    406\u001b[0m \u001b[0;34m\u001b[0m\u001b[0m\n",
      "\u001b[0;32m/usr/lib/python2.7/dist-packages/matplotlib/axes/_base.pyc\u001b[0m in \u001b[0;36m_plot_args\u001b[0;34m(self, tup, kwargs)\u001b[0m\n\u001b[1;32m    382\u001b[0m             \u001b[0mx\u001b[0m\u001b[0;34m,\u001b[0m \u001b[0my\u001b[0m \u001b[0;34m=\u001b[0m \u001b[0mindex_of\u001b[0m\u001b[0;34m(\u001b[0m\u001b[0mtup\u001b[0m\u001b[0;34m[\u001b[0m\u001b[0;34m-\u001b[0m\u001b[0;36m1\u001b[0m\u001b[0;34m]\u001b[0m\u001b[0;34m)\u001b[0m\u001b[0;34m\u001b[0m\u001b[0;34m\u001b[0m\u001b[0m\n\u001b[1;32m    383\u001b[0m \u001b[0;34m\u001b[0m\u001b[0m\n\u001b[0;32m--> 384\u001b[0;31m         \u001b[0mx\u001b[0m\u001b[0;34m,\u001b[0m \u001b[0my\u001b[0m \u001b[0;34m=\u001b[0m \u001b[0mself\u001b[0m\u001b[0;34m.\u001b[0m\u001b[0m_xy_from_xy\u001b[0m\u001b[0;34m(\u001b[0m\u001b[0mx\u001b[0m\u001b[0;34m,\u001b[0m \u001b[0my\u001b[0m\u001b[0;34m)\u001b[0m\u001b[0;34m\u001b[0m\u001b[0;34m\u001b[0m\u001b[0m\n\u001b[0m\u001b[1;32m    385\u001b[0m \u001b[0;34m\u001b[0m\u001b[0m\n\u001b[1;32m    386\u001b[0m         \u001b[0;32mif\u001b[0m \u001b[0mself\u001b[0m\u001b[0;34m.\u001b[0m\u001b[0mcommand\u001b[0m \u001b[0;34m==\u001b[0m \u001b[0;34m'plot'\u001b[0m\u001b[0;34m:\u001b[0m\u001b[0;34m\u001b[0m\u001b[0;34m\u001b[0m\u001b[0m\n",
      "\u001b[0;32m/usr/lib/python2.7/dist-packages/matplotlib/axes/_base.pyc\u001b[0m in \u001b[0;36m_xy_from_xy\u001b[0;34m(self, x, y)\u001b[0m\n\u001b[1;32m    241\u001b[0m         \u001b[0;32mif\u001b[0m \u001b[0mx\u001b[0m\u001b[0;34m.\u001b[0m\u001b[0mshape\u001b[0m\u001b[0;34m[\u001b[0m\u001b[0;36m0\u001b[0m\u001b[0;34m]\u001b[0m \u001b[0;34m!=\u001b[0m \u001b[0my\u001b[0m\u001b[0;34m.\u001b[0m\u001b[0mshape\u001b[0m\u001b[0;34m[\u001b[0m\u001b[0;36m0\u001b[0m\u001b[0;34m]\u001b[0m\u001b[0;34m:\u001b[0m\u001b[0;34m\u001b[0m\u001b[0;34m\u001b[0m\u001b[0m\n\u001b[1;32m    242\u001b[0m             raise ValueError(\"x and y must have same first dimension, but \"\n\u001b[0;32m--> 243\u001b[0;31m                              \"have shapes {} and {}\".format(x.shape, y.shape))\n\u001b[0m\u001b[1;32m    244\u001b[0m         \u001b[0;32mif\u001b[0m \u001b[0mx\u001b[0m\u001b[0;34m.\u001b[0m\u001b[0mndim\u001b[0m \u001b[0;34m>\u001b[0m \u001b[0;36m2\u001b[0m \u001b[0;32mor\u001b[0m \u001b[0my\u001b[0m\u001b[0;34m.\u001b[0m\u001b[0mndim\u001b[0m \u001b[0;34m>\u001b[0m \u001b[0;36m2\u001b[0m\u001b[0;34m:\u001b[0m\u001b[0;34m\u001b[0m\u001b[0;34m\u001b[0m\u001b[0m\n\u001b[1;32m    245\u001b[0m             raise ValueError(\"x and y can be no greater than 2-D, but have \"\n",
      "\u001b[0;31mValueError\u001b[0m: x and y must have same first dimension, but have shapes (9998,) and (19996,)"
     ]
    },
    {
     "data": {
      "image/png": "[encoded data removed]",
      "text/plain": [
       "<matplotlib.figure.Figure at 0x7fbe9fda3c90>"
      ]
     },
     "metadata": {
      "needs_background": "light"
     },
     "output_type": "display_data"
    }
   ],
   "source": [
    "plt.plot(time,quat2_,label='gyro_angle drift',linewidth=1)\n",
    "plt.show()\n",
    "gyro_angle = []\n",
    "gyro_tmp = 0\n",
    "for (i,t) in enumerate(time[0:100000]):\n",
    "    gyro_tmp = gyro_tmp + dt*((Gyro_z[i]  + 15.6256062561)/16.4)\n",
    "    gyro_angle.append(gyro_tmp)\n",
    "\n",
    "plt.scatter(time,gyro_angle,label='gyro_angle drift',linewidth=1)\n",
    "plt.show()"
   ]
  },
  {
   "cell_type": "code",
   "execution_count": null,
   "metadata": {},
   "outputs": [],
   "source": []
  }
 ],
 "metadata": {
  "kernelspec": {
   "display_name": "Python 3",
   "language": "python",
   "name": "python3"
  },
  "language_info": {
   "codemirror_mode": {
    "name": "ipython",
    "version": 3
   },
   "file_extension": ".py",
   "mimetype": "text/x-python",
   "name": "python",
   "nbconvert_exporter": "python",
   "pygments_lexer": "ipython3",
   "version": "3.6.8"
  }
 },
 "nbformat": 4,
 "nbformat_minor": 2
}
